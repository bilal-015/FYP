{
 "cells": [
  {
   "cell_type": "code",
   "execution_count": 5,
   "id": "d716e91a",
   "metadata": {},
   "outputs": [
    {
     "name": "stdout",
     "output_type": "stream",
     "text": [
      "🌍 Opening main page: https://www.sanfoundry.com/object-oriented-programming-questions-answers-oops-features/\n",
      "✅ Found 96 links\n",
      "\n",
      "🔗 Processing URL 1/96: https://www.sanfoundry.com/object-oriented-programming-questions-answers-online-test/\n",
      "✅ Page loaded successfully\n",
      "✅ Data scraped from URL 1: https://www.sanfoundry.com/object-oriented-programming-questions-answers-online-test/\n",
      "\n",
      "🔗 Processing URL 2/96: https://www.sanfoundry.com/object-oriented-programming-questions-answers-classes/\n",
      "✅ Page loaded successfully\n",
      "✅ Data scraped from URL 2: https://www.sanfoundry.com/object-oriented-programming-questions-answers-classes/\n",
      "\n",
      "🔗 Processing URL 3/96: https://www.sanfoundry.com/object-oriented-programming-questions-answers-objects/\n",
      "✅ Page loaded successfully\n",
      "✅ Data scraped from URL 3: https://www.sanfoundry.com/object-oriented-programming-questions-answers-objects/\n",
      "\n",
      "🔗 Processing URL 4/96: https://www.sanfoundry.com/object-oriented-programming-questions-answers-oops-features/\n",
      "✅ Page loaded successfully\n"
     ]
    },
    {
     "ename": "InvalidSessionIdException",
     "evalue": "Message: invalid session id; For documentation on this error, please visit: https://www.selenium.dev/documentation/webdriver/troubleshooting/errors#invalidsessionidexception\nStacktrace:\n\tGetHandleVerifier [0x0x7ff7e122fc95+79861]\n\tGetHandleVerifier [0x0x7ff7e122fcf0+79952]\n\t(No symbol) [0x0x7ff7e0fac8fc]\n\t(No symbol) [0x0x7ff7e0ff438d]\n\t(No symbol) [0x0x7ff7e102c9a2]\n\t(No symbol) [0x0x7ff7e1027374]\n\t(No symbol) [0x0x7ff7e102642a]\n\t(No symbol) [0x0x7ff7e0f77075]\n\tGetHandleVerifier [0x0x7ff7e14eb9cd+2946349]\n\tGetHandleVerifier [0x0x7ff7e14e5c4a+2922410]\n\tGetHandleVerifier [0x0x7ff7e15059d7+3052855]\n\tGetHandleVerifier [0x0x7ff7e124aa7e+189918]\n\tGetHandleVerifier [0x0x7ff7e1252a1f+222591]\n\t(No symbol) [0x0x7ff7e0f7602c]\n\tGetHandleVerifier [0x0x7ff7e161e3f8+4202328]\n\tBaseThreadInitThunk [0x0x7ffc7b247374+20]\n\tRtlUserThreadStart [0x0x7ffc7bffcc91+33]\n",
     "output_type": "error",
     "traceback": [
      "\u001b[31m---------------------------------------------------------------------------\u001b[39m",
      "\u001b[31mInvalidSessionIdException\u001b[39m                 Traceback (most recent call last)",
      "\u001b[36mCell\u001b[39m\u001b[36m \u001b[39m\u001b[32mIn[5]\u001b[39m\u001b[32m, line 10\u001b[39m\n\u001b[32m      7\u001b[39m hrefs = scraper.get_links(\u001b[33m\"\u001b[39m\u001b[33mhttps://www.sanfoundry.com/object-oriented-programming-questions-answers-oops-features/\u001b[39m\u001b[33m\"\u001b[39m)\n\u001b[32m      9\u001b[39m \u001b[38;5;66;03m# Step 2: Scrape MCQs (now returns a DataFrame instead of writing CSV)\u001b[39;00m\n\u001b[32m---> \u001b[39m\u001b[32m10\u001b[39m df = \u001b[43mscraper\u001b[49m\u001b[43m.\u001b[49m\u001b[43mscrape_mcqs\u001b[49m\u001b[43m(\u001b[49m\u001b[43mhrefs\u001b[49m\u001b[43m)\u001b[49m\n\u001b[32m     12\u001b[39m \u001b[38;5;66;03m# Step 3: Work with DataFrame in memory\u001b[39;00m\n\u001b[32m     13\u001b[39m \u001b[38;5;28mprint\u001b[39m(df.head())\n",
      "\u001b[36mFile \u001b[39m\u001b[32md:\\FYP\\CloneRepo\\FYP\\scraping_script.py:64\u001b[39m, in \u001b[36mMCQScraper.scrape_mcqs\u001b[39m\u001b[34m(self, hrefs)\u001b[39m\n\u001b[32m     61\u001b[39m \u001b[38;5;66;03m# Initialize containers\u001b[39;00m\n\u001b[32m     62\u001b[39m q_number, q_text, code_part, opt_a, opt_b, opt_c, opt_d, correct_ans, explanation = [], [], [], [], [], [], [], [], []\n\u001b[32m---> \u001b[39m\u001b[32m64\u001b[39m content_div = \u001b[38;5;28;43mself\u001b[39;49m\u001b[43m.\u001b[49m\u001b[43mdriver\u001b[49m\u001b[43m.\u001b[49m\u001b[43mfind_element\u001b[49m\u001b[43m(\u001b[49m\u001b[43mBy\u001b[49m\u001b[43m.\u001b[49m\u001b[43mCSS_SELECTOR\u001b[49m\u001b[43m,\u001b[49m\u001b[43m \u001b[49m\u001b[33;43m\"\u001b[39;49m\u001b[33;43mdiv.entry-content\u001b[39;49m\u001b[33;43m\"\u001b[39;49m\u001b[43m)\u001b[49m\n\u001b[32m     65\u001b[39m children = content_div.find_elements(By.XPATH, \u001b[33m\"\u001b[39m\u001b[33m./*\u001b[39m\u001b[33m\"\u001b[39m)\n\u001b[32m     67\u001b[39m i = \u001b[32m0\u001b[39m\n",
      "\u001b[36mFile \u001b[39m\u001b[32md:\\FYP\\datasets\\.scrapper\\Lib\\site-packages\\selenium\\webdriver\\remote\\webdriver.py:922\u001b[39m, in \u001b[36mWebDriver.find_element\u001b[39m\u001b[34m(self, by, value)\u001b[39m\n\u001b[32m    919\u001b[39m         \u001b[38;5;28;01mraise\u001b[39;00m NoSuchElementException(\u001b[33mf\u001b[39m\u001b[33m\"\u001b[39m\u001b[33mCannot locate relative element with: \u001b[39m\u001b[38;5;132;01m{\u001b[39;00mby.root\u001b[38;5;132;01m}\u001b[39;00m\u001b[33m\"\u001b[39m)\n\u001b[32m    920\u001b[39m     \u001b[38;5;28;01mreturn\u001b[39;00m elements[\u001b[32m0\u001b[39m]\n\u001b[32m--> \u001b[39m\u001b[32m922\u001b[39m \u001b[38;5;28;01mreturn\u001b[39;00m \u001b[38;5;28;43mself\u001b[39;49m\u001b[43m.\u001b[49m\u001b[43mexecute\u001b[49m\u001b[43m(\u001b[49m\u001b[43mCommand\u001b[49m\u001b[43m.\u001b[49m\u001b[43mFIND_ELEMENT\u001b[49m\u001b[43m,\u001b[49m\u001b[43m \u001b[49m\u001b[43m{\u001b[49m\u001b[33;43m\"\u001b[39;49m\u001b[33;43musing\u001b[39;49m\u001b[33;43m\"\u001b[39;49m\u001b[43m:\u001b[49m\u001b[43m \u001b[49m\u001b[43mby\u001b[49m\u001b[43m,\u001b[49m\u001b[43m \u001b[49m\u001b[33;43m\"\u001b[39;49m\u001b[33;43mvalue\u001b[39;49m\u001b[33;43m\"\u001b[39;49m\u001b[43m:\u001b[49m\u001b[43m \u001b[49m\u001b[43mvalue\u001b[49m\u001b[43m}\u001b[49m\u001b[43m)\u001b[49m[\u001b[33m\"\u001b[39m\u001b[33mvalue\u001b[39m\u001b[33m\"\u001b[39m]\n",
      "\u001b[36mFile \u001b[39m\u001b[32md:\\FYP\\datasets\\.scrapper\\Lib\\site-packages\\selenium\\webdriver\\remote\\webdriver.py:454\u001b[39m, in \u001b[36mWebDriver.execute\u001b[39m\u001b[34m(self, driver_command, params)\u001b[39m\n\u001b[32m    451\u001b[39m response = cast(RemoteConnection, \u001b[38;5;28mself\u001b[39m.command_executor).execute(driver_command, params)\n\u001b[32m    453\u001b[39m \u001b[38;5;28;01mif\u001b[39;00m response:\n\u001b[32m--> \u001b[39m\u001b[32m454\u001b[39m     \u001b[38;5;28;43mself\u001b[39;49m\u001b[43m.\u001b[49m\u001b[43merror_handler\u001b[49m\u001b[43m.\u001b[49m\u001b[43mcheck_response\u001b[49m\u001b[43m(\u001b[49m\u001b[43mresponse\u001b[49m\u001b[43m)\u001b[49m\n\u001b[32m    455\u001b[39m     response[\u001b[33m\"\u001b[39m\u001b[33mvalue\u001b[39m\u001b[33m\"\u001b[39m] = \u001b[38;5;28mself\u001b[39m._unwrap_value(response.get(\u001b[33m\"\u001b[39m\u001b[33mvalue\u001b[39m\u001b[33m\"\u001b[39m, \u001b[38;5;28;01mNone\u001b[39;00m))\n\u001b[32m    456\u001b[39m     \u001b[38;5;28;01mreturn\u001b[39;00m response\n",
      "\u001b[36mFile \u001b[39m\u001b[32md:\\FYP\\datasets\\.scrapper\\Lib\\site-packages\\selenium\\webdriver\\remote\\errorhandler.py:232\u001b[39m, in \u001b[36mErrorHandler.check_response\u001b[39m\u001b[34m(self, response)\u001b[39m\n\u001b[32m    230\u001b[39m         alert_text = value[\u001b[33m\"\u001b[39m\u001b[33malert\u001b[39m\u001b[33m\"\u001b[39m].get(\u001b[33m\"\u001b[39m\u001b[33mtext\u001b[39m\u001b[33m\"\u001b[39m)\n\u001b[32m    231\u001b[39m     \u001b[38;5;28;01mraise\u001b[39;00m exception_class(message, screen, stacktrace, alert_text)  \u001b[38;5;66;03m# type: ignore[call-arg]  # mypy is not smart enough here\u001b[39;00m\n\u001b[32m--> \u001b[39m\u001b[32m232\u001b[39m \u001b[38;5;28;01mraise\u001b[39;00m exception_class(message, screen, stacktrace)\n",
      "\u001b[31mInvalidSessionIdException\u001b[39m: Message: invalid session id; For documentation on this error, please visit: https://www.selenium.dev/documentation/webdriver/troubleshooting/errors#invalidsessionidexception\nStacktrace:\n\tGetHandleVerifier [0x0x7ff7e122fc95+79861]\n\tGetHandleVerifier [0x0x7ff7e122fcf0+79952]\n\t(No symbol) [0x0x7ff7e0fac8fc]\n\t(No symbol) [0x0x7ff7e0ff438d]\n\t(No symbol) [0x0x7ff7e102c9a2]\n\t(No symbol) [0x0x7ff7e1027374]\n\t(No symbol) [0x0x7ff7e102642a]\n\t(No symbol) [0x0x7ff7e0f77075]\n\tGetHandleVerifier [0x0x7ff7e14eb9cd+2946349]\n\tGetHandleVerifier [0x0x7ff7e14e5c4a+2922410]\n\tGetHandleVerifier [0x0x7ff7e15059d7+3052855]\n\tGetHandleVerifier [0x0x7ff7e124aa7e+189918]\n\tGetHandleVerifier [0x0x7ff7e1252a1f+222591]\n\t(No symbol) [0x0x7ff7e0f7602c]\n\tGetHandleVerifier [0x0x7ff7e161e3f8+4202328]\n\tBaseThreadInitThunk [0x0x7ffc7b247374+20]\n\tRtlUserThreadStart [0x0x7ffc7bffcc91+33]\n"
     ]
    }
   ],
   "source": [
    "from scraping_script import MCQScraper\n",
    "\n",
    "if __name__ == \"__main__\":\n",
    "    scraper = MCQScraper(driver_path=\"D:\\\\FYP\\\\datasets\\\\chromedriver-win64\\\\chromedriver.exe\")\n",
    "\n",
    "    # Step 1: Get all links\n",
    "    hrefs = scraper.get_links(\"https://www.sanfoundry.com/object-oriented-programming-questions-answers-oops-features/\")\n",
    "\n",
    "    # Step 2: Scrape MCQs (now returns a DataFrame instead of writing CSV)\n",
    "    df = scraper.scrape_mcqs(hrefs)\n",
    "\n",
    "    # Step 3: Work with DataFrame in memory\n",
    "    print(df.head())\n",
    "\n",
    "    # Step 4: Optionally save if needed\n",
    "    df.to_csv(\"newallOOPMCQs.csv\", index=False)\n",
    "\n",
    "    scraper.close()\n"
   ]
  }
 ],
 "metadata": {
  "kernelspec": {
   "display_name": "Python (myvenv)",
   "language": "python",
   "name": "myvenv"
  },
  "language_info": {
   "codemirror_mode": {
    "name": "ipython",
    "version": 3
   },
   "file_extension": ".py",
   "mimetype": "text/x-python",
   "name": "python",
   "nbconvert_exporter": "python",
   "pygments_lexer": "ipython3",
   "version": "3.12.2"
  }
 },
 "nbformat": 4,
 "nbformat_minor": 5
}
